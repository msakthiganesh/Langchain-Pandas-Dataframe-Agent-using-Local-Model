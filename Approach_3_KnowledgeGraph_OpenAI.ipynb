{
 "cells": [
  {
   "cell_type": "code",
   "execution_count": 1,
   "metadata": {},
   "outputs": [],
   "source": [
    "import getpass\n",
    "import os\n",
    "from dotenv import load_dotenv\n",
    "from langchain_community.graphs import Neo4jGraph\n",
    "import pandas as pd\n",
    "from langchain.chains import GraphCypherQAChain\n",
    "from langchain_openai import ChatOpenAI"
   ]
  },
  {
   "cell_type": "code",
   "execution_count": 2,
   "metadata": {},
   "outputs": [
    {
     "data": {
      "text/plain": [
       "True"
      ]
     },
     "execution_count": 2,
     "metadata": {},
     "output_type": "execute_result"
    }
   ],
   "source": [
    "load_dotenv() # Loads OpenAI API Key and Neo4J URI, Username and Password from .env file"
   ]
  },
  {
   "cell_type": "code",
   "execution_count": 6,
   "metadata": {},
   "outputs": [
    {
     "data": {
      "text/plain": [
       "[]"
      ]
     },
     "execution_count": 6,
     "metadata": {},
     "output_type": "execute_result"
    }
   ],
   "source": [
    "graph = Neo4jGraph()\n",
    "\n",
    "data_query = \"\"\"\n",
    "LOAD CSV WITH HEADERS FROM 'https://raw.githubusercontent.com/msakthiganesh/Langchain-Pandas-Dataframe-Agent-using-Local-Model/main/take_home_dataset_cleaned.csv' AS row\n",
    "MERGE (o:Order {id:row.Order_ID})\n",
    "SET o.order_date = date(row.Order_date),\n",
    "    o.start_shipping_date = date(row.Start_Shipping_Date),\n",
    "    o.estimated_arrival_date = date(row.Estimated_Arrival_Date),\n",
    "    o.actual_arrival_date = date(row.Actual_Arrival_Date),\n",
    "    o.days_from_order_to_shipment = toInteger(row.Days_from_order_to_shipment),\n",
    "    o.days_from_shipment_to_delivery = toInteger(row.Days_from_shipment_to_delivery),\n",
    "    o.days_from_order_to_delivery = toInteger(row.Days_from_order_to_delivery),\n",
    "    o.days_between_estimated_and_actual_arrival = toInteger(row.Days_between_estimated_and_actual_arrival),\n",
    "    o.status = row.Status\n",
    "MERGE (p:ProductCategory {name:row.Product_Category})\n",
    "MERGE (m:ModeOfTransport {name:row.Mode_Of_Transport})\n",
    "MERGE (pr:Priority {name:row.Priority})\n",
    "MERGE (c:Carrier {name:row.Carrier_name})\n",
    "MERGE (w:Warehouse {name:row.Warehouse})\n",
    "MERGE (s:Supplier {name:row.Supplier_Name})\n",
    "MERGE (cu:Customer {name:row.Customer_Name})\n",
    "MERGE (d:DeliveryDistance {value:toInteger(row.Delivery_distance)})\n",
    "MERGE (o)-[:IN_CATEGORY]->(p)\n",
    "MERGE (o)-[:USES_TRANSPORT]->(m)\n",
    "MERGE (o)-[:HAS_PRIORITY]->(pr)\n",
    "MERGE (o)-[:SHIPPED_BY]->(c)\n",
    "MERGE (o)-[:FROM_WAREHOUSE]->(w)\n",
    "MERGE (o)-[:FROM_SUPPLIER]->(s)\n",
    "MERGE (o)-[:TO_CUSTOMER]->(cu)\n",
    "MERGE (o)-[:DELIVERY_DISTANCE]->(d)\n",
    "\n",
    "\"\"\"\n",
    "\n",
    "graph.query(data_query)"
   ]
  },
  {
   "cell_type": "code",
   "execution_count": 7,
   "metadata": {},
   "outputs": [
    {
     "name": "stdout",
     "output_type": "stream",
     "text": [
      "Node properties:\n",
      "Order {id: STRING, order_date: DATE, start_shipping_date: DATE, estimated_arrival_date: DATE, actual_arrival_date: DATE, days_from_order_to_shipment: INTEGER, days_from_shipment_to_delivery: INTEGER, days_from_order_to_delivery: INTEGER, days_between_estimated_and_actual_arrival: INTEGER, status: STRING}\n",
      "ProductCategory {name: STRING}\n",
      "ModeOfTransport {name: STRING}\n",
      "Priority {name: STRING}\n",
      "Carrier {name: STRING}\n",
      "Warehouse {name: STRING}\n",
      "Supplier {name: STRING}\n",
      "Customer {name: STRING}\n",
      "DeliveryDistance {value: INTEGER}\n",
      "Relationship properties:\n",
      "\n",
      "The relationships:\n",
      "(:Order)-[:IN_CATEGORY]->(:ProductCategory)\n",
      "(:Order)-[:USES_TRANSPORT]->(:ModeOfTransport)\n",
      "(:Order)-[:HAS_PRIORITY]->(:Priority)\n",
      "(:Order)-[:SHIPPED_BY]->(:Carrier)\n",
      "(:Order)-[:FROM_WAREHOUSE]->(:Warehouse)\n",
      "(:Order)-[:FROM_SUPPLIER]->(:Supplier)\n",
      "(:Order)-[:TO_CUSTOMER]->(:Customer)\n",
      "(:Order)-[:DELIVERY_DISTANCE]->(:DeliveryDistance)\n"
     ]
    }
   ],
   "source": [
    "graph.refresh_schema()\n",
    "print(graph.schema)"
   ]
  },
  {
   "cell_type": "code",
   "execution_count": 8,
   "metadata": {},
   "outputs": [
    {
     "name": "stdout",
     "output_type": "stream",
     "text": [
      "\n",
      "\n",
      "\u001b[1m> Entering new GraphCypherQAChain chain...\u001b[0m\n",
      "Generated Cypher:\n",
      "\u001b[32;1m\u001b[1;3mMATCH (o:Order)-[:DELIVERY_DISTANCE]->(d:DeliveryDistance)\n",
      "RETURN MAX(d.value)\u001b[0m\n",
      "Full Context:\n",
      "\u001b[32;1m\u001b[1;3m[{'MAX(d.value)': 9900}]\u001b[0m\n",
      "\n",
      "\u001b[1m> Finished chain.\u001b[0m\n"
     ]
    },
    {
     "data": {
      "text/plain": [
       "{'query': 'What is the maximum delivery distance?',\n",
       " 'result': 'The maximum delivery distance is 9900.'}"
      ]
     },
     "execution_count": 8,
     "metadata": {},
     "output_type": "execute_result"
    }
   ],
   "source": [
    "llm = ChatOpenAI(model=\"gpt-4\", temperature=0)\n",
    "chain = GraphCypherQAChain.from_llm(graph=graph, llm=llm, verbose=True)\n",
    "response = chain.invoke({\"query\": \"What is the maximum delivery distance?\"})\n",
    "response"
   ]
  },
  {
   "cell_type": "code",
   "execution_count": 9,
   "metadata": {},
   "outputs": [
    {
     "name": "stdout",
     "output_type": "stream",
     "text": [
      "\n",
      "\n",
      "\u001b[1m> Entering new GraphCypherQAChain chain...\u001b[0m\n",
      "Generated Cypher:\n",
      "\u001b[32;1m\u001b[1;3mMATCH (o:Order)-[:USES_TRANSPORT]->(m:ModeOfTransport) RETURN DISTINCT m.name\u001b[0m\n",
      "Full Context:\n",
      "\u001b[32;1m\u001b[1;3m[{'m.name': 'Less Than Truckload'}, {'m.name': 'Full Truckload'}, {'m.name': 'Air Freight'}, {'m.name': 'Intermodal & Rail Shipments'}]\u001b[0m\n",
      "\n",
      "\u001b[1m> Finished chain.\u001b[0m\n"
     ]
    },
    {
     "data": {
      "text/plain": [
       "{'query': 'What are the modes of transport?',\n",
       " 'result': 'The modes of transport are Less Than Truckload, Full Truckload, Air Freight, and Intermodal & Rail Shipments.'}"
      ]
     },
     "execution_count": 9,
     "metadata": {},
     "output_type": "execute_result"
    }
   ],
   "source": [
    "chain = GraphCypherQAChain.from_llm(\n",
    "    graph=graph, llm=llm, verbose=True, validate_cypher=True\n",
    ")\n",
    "response = chain.invoke({\"query\": \"What are the modes of transport?\"})\n",
    "response"
   ]
  },
  {
   "cell_type": "code",
   "execution_count": null,
   "metadata": {},
   "outputs": [],
   "source": []
  }
 ],
 "metadata": {
  "kernelspec": {
   "display_name": "llamaind",
   "language": "python",
   "name": "python3"
  },
  "language_info": {
   "codemirror_mode": {
    "name": "ipython",
    "version": 3
   },
   "file_extension": ".py",
   "mimetype": "text/x-python",
   "name": "python",
   "nbconvert_exporter": "python",
   "pygments_lexer": "ipython3",
   "version": "3.9.19"
  }
 },
 "nbformat": 4,
 "nbformat_minor": 2
}
